{
 "cells": [
  {
   "cell_type": "markdown",
   "metadata": {},
   "source": [
    "# Projeto Final - Banco de Dados I  - Ada Tech\n",
    "### Prof°: Rógerio Mainardes\n",
    "### Aluno: Janderson Freitas"
   ]
  },
  {
   "cell_type": "code",
   "execution_count": null,
   "metadata": {
    "colab": {
     "base_uri": "https://localhost:8080/"
    },
    "id": "2GfHYozSgp0H",
    "outputId": "3e61d418-35d2-4e83-df8b-43badf56e08d"
   },
   "outputs": [],
   "source": [
    "#!pip install pandasql\n",
    "#pip install sqlalchemy==1.4.46"
   ]
  },
  {
   "cell_type": "code",
   "execution_count": 1,
   "metadata": {
    "id": "A7PMENcCZOTk"
   },
   "outputs": [],
   "source": [
    "import pandas as pd\n",
    "import pandasql as ps\n",
    "from sqlalchemy import create_engine\n",
    "import os"
   ]
  },
  {
   "cell_type": "markdown",
   "metadata": {},
   "source": [
    "## Cartão corporativo presidencial 2003 - 2022"
   ]
  },
  {
   "cell_type": "markdown",
   "metadata": {},
   "source": [
    "#### Base de dados fonte da trabalho"
   ]
  },
  {
   "cell_type": "markdown",
   "metadata": {
    "id": "RZ3-Co0okXr_"
   },
   "source": [
    "## Conexão com Postgresql"
   ]
  },
  {
   "cell_type": "code",
   "execution_count": 7,
   "metadata": {
    "id": "RsMamXWxdBnz"
   },
   "outputs": [],
   "source": [
    "SGBD = \"postgresql+psycopg2\"\n",
    "USER = \"postgres\"\n",
    "SENHA = \"admin\"\n",
    "HOST = \"localhost\"\n",
    "DATABASE = \"Cartao_Corporativo\"\n",
    "\n",
    "engine = create_engine(f\"{SGBD}://{USER}:{SENHA}@{HOST}/{DATABASE}\")\n",
    "conn = engine.connect()"
   ]
  },
  {
   "cell_type": "code",
   "execution_count": 56,
   "metadata": {
    "scrolled": true
   },
   "outputs": [
    {
     "data": {
      "text/html": [
       "<div>\n",
       "<style scoped>\n",
       "    .dataframe tbody tr th:only-of-type {\n",
       "        vertical-align: middle;\n",
       "    }\n",
       "\n",
       "    .dataframe tbody tr th {\n",
       "        vertical-align: top;\n",
       "    }\n",
       "\n",
       "    .dataframe thead th {\n",
       "        text-align: right;\n",
       "    }\n",
       "</style>\n",
       "<table border=\"1\" class=\"dataframe\">\n",
       "  <thead>\n",
       "    <tr style=\"text-align: right;\">\n",
       "      <th></th>\n",
       "      <th>id_compra</th>\n",
       "      <th>nome_fornecedor</th>\n",
       "      <th>tipo_compra</th>\n",
       "      <th>ano</th>\n",
       "      <th>valor</th>\n",
       "      <th>nome_presidente</th>\n",
       "      <th>mes</th>\n",
       "      <th>data_compra</th>\n",
       "      <th>valor_corrigido</th>\n",
       "    </tr>\n",
       "  </thead>\n",
       "  <tbody>\n",
       "    <tr>\n",
       "      <th>0</th>\n",
       "      <td>0</td>\n",
       "      <td>JW TRANSPORTADORA TURÖSTICA</td>\n",
       "      <td>Débito</td>\n",
       "      <td>2003.0</td>\n",
       "      <td>1696.90</td>\n",
       "      <td>LULA</td>\n",
       "      <td>1</td>\n",
       "      <td>jan/03</td>\n",
       "      <td>5385.88500</td>\n",
       "    </tr>\n",
       "    <tr>\n",
       "      <th>1</th>\n",
       "      <td>1</td>\n",
       "      <td>JW TRANSPORTADORA TURÖSTICA</td>\n",
       "      <td>Débito</td>\n",
       "      <td>2003.0</td>\n",
       "      <td>1336.60</td>\n",
       "      <td>LULA</td>\n",
       "      <td>1</td>\n",
       "      <td>jan/03</td>\n",
       "      <td>4242.30860</td>\n",
       "    </tr>\n",
       "    <tr>\n",
       "      <th>2</th>\n",
       "      <td>2</td>\n",
       "      <td>JW TRANSPORTADORA TURÖSTICA</td>\n",
       "      <td>Débito</td>\n",
       "      <td>2003.0</td>\n",
       "      <td>1396.43</td>\n",
       "      <td>LULA</td>\n",
       "      <td>1</td>\n",
       "      <td>jan/03</td>\n",
       "      <td>4432.20650</td>\n",
       "    </tr>\n",
       "    <tr>\n",
       "      <th>3</th>\n",
       "      <td>3</td>\n",
       "      <td>FLORES ALVORADA</td>\n",
       "      <td>Crédito</td>\n",
       "      <td>2003.0</td>\n",
       "      <td>8585.00</td>\n",
       "      <td>LULA</td>\n",
       "      <td>1</td>\n",
       "      <td>jan/03</td>\n",
       "      <td>27248.40600</td>\n",
       "    </tr>\n",
       "    <tr>\n",
       "      <th>4</th>\n",
       "      <td>4</td>\n",
       "      <td>CRISTAL LIMPEZA - COMRCIO DE MATERIAIS PARA L...</td>\n",
       "      <td>Crédito</td>\n",
       "      <td>2003.0</td>\n",
       "      <td>251.50</td>\n",
       "      <td>LULA</td>\n",
       "      <td>1</td>\n",
       "      <td>jan/03</td>\n",
       "      <td>798.24976</td>\n",
       "    </tr>\n",
       "  </tbody>\n",
       "</table>\n",
       "</div>"
      ],
      "text/plain": [
       "   id_compra                                    nome_fornecedor tipo_compra  \\\n",
       "0          0                        JW TRANSPORTADORA TURÖSTICA      Débito   \n",
       "1          1                        JW TRANSPORTADORA TURÖSTICA      Débito   \n",
       "2          2                        JW TRANSPORTADORA TURÖSTICA      Débito   \n",
       "3          3                                    FLORES ALVORADA     Crédito   \n",
       "4          4  CRISTAL LIMPEZA - COMRCIO DE MATERIAIS PARA L...     Crédito   \n",
       "\n",
       "      ano    valor nome_presidente  mes data_compra  valor_corrigido  \n",
       "0  2003.0  1696.90            LULA    1      jan/03       5385.88500  \n",
       "1  2003.0  1336.60            LULA    1      jan/03       4242.30860  \n",
       "2  2003.0  1396.43            LULA    1      jan/03       4432.20650  \n",
       "3  2003.0  8585.00            LULA    1      jan/03      27248.40600  \n",
       "4  2003.0   251.50            LULA    1      jan/03        798.24976  "
      ]
     },
     "execution_count": 56,
     "metadata": {},
     "output_type": "execute_result"
    }
   ],
   "source": [
    "query = \"SELECT * FROM gastos_corporativos.gastos \" \n",
    "gastos = pd.read_sql_query(query, con = conn)\n",
    "gastos.head()"
   ]
  },
  {
   "cell_type": "code",
   "execution_count": 66,
   "metadata": {},
   "outputs": [
    {
     "data": {
      "text/plain": [
       "(113324, 9)"
      ]
     },
     "execution_count": 66,
     "metadata": {},
     "output_type": "execute_result"
    }
   ],
   "source": [
    "gastos.shape"
   ]
  },
  {
   "cell_type": "markdown",
   "metadata": {},
   "source": [
    "#### Análise Descritiva\n"
   ]
  },
  {
   "cell_type": "markdown",
   "metadata": {},
   "source": [
    " - Qual as tipagens das colunas?"
   ]
  },
  {
   "cell_type": "code",
   "execution_count": 19,
   "metadata": {},
   "outputs": [
    {
     "name": "stdout",
     "output_type": "stream",
     "text": [
      "<class 'pandas.core.frame.DataFrame'>\n",
      "RangeIndex: 113324 entries, 0 to 113323\n",
      "Data columns (total 9 columns):\n",
      " #   Column           Non-Null Count   Dtype  \n",
      "---  ------           --------------   -----  \n",
      " 0   id_compra        113324 non-null  int64  \n",
      " 1   nome_fornecedor  113324 non-null  object \n",
      " 2   tipo_compra      113324 non-null  object \n",
      " 3   ano              113324 non-null  float64\n",
      " 4   valor            113324 non-null  float64\n",
      " 5   nome_presidente  113324 non-null  object \n",
      " 6   mes              113324 non-null  int64  \n",
      " 7   data_compra      113324 non-null  object \n",
      " 8   valor_corrigido  113324 non-null  float64\n",
      "dtypes: float64(3), int64(2), object(4)\n",
      "memory usage: 7.8+ MB\n"
     ]
    }
   ],
   "source": [
    "gastos.info()"
   ]
  },
  {
   "cell_type": "markdown",
   "metadata": {},
   "source": [
    "#### Q1) Quantos nulos temos em cada coluna?"
   ]
  },
  {
   "cell_type": "markdown",
   "metadata": {},
   "source": [
    "Os dados passaram por um tratamento prévio antes de virar .csv e serem carregados no postgres, com o objetivo do aluno ter uma melhor experiência focado nas querys SQL. \n",
    "\n",
    "- Fonte de dados: 'https://www.gov.br/secretariageral/pt-br/acesso-a-informacao/informacoes-classificadas-e-desclassificadas/Planilha12003a2022.csv'\n",
    "\n",
    "- Link do notebook do processo de Extração e Transformação dos dados: 'https://github.com/JinzoFreitas/Analise-Cartao-Corporativo-presidencial/blob/main/cartao_corporativo.ipynb'\n",
    "\n",
    "- Para os dados carregados do projeto, não temos nulos em nenhuma coluna. "
   ]
  },
  {
   "cell_type": "markdown",
   "metadata": {},
   "source": [
    "#### Q2) Quantos valores únicos temos nas colunas categoricas?"
   ]
  },
  {
   "cell_type": "code",
   "execution_count": 43,
   "metadata": {},
   "outputs": [
    {
     "data": {
      "text/html": [
       "<div>\n",
       "<style scoped>\n",
       "    .dataframe tbody tr th:only-of-type {\n",
       "        vertical-align: middle;\n",
       "    }\n",
       "\n",
       "    .dataframe tbody tr th {\n",
       "        vertical-align: top;\n",
       "    }\n",
       "\n",
       "    .dataframe thead th {\n",
       "        text-align: right;\n",
       "    }\n",
       "</style>\n",
       "<table border=\"1\" class=\"dataframe\">\n",
       "  <thead>\n",
       "    <tr style=\"text-align: right;\">\n",
       "      <th></th>\n",
       "      <th>nome_fornecedor</th>\n",
       "      <th>quantidade</th>\n",
       "    </tr>\n",
       "  </thead>\n",
       "  <tbody>\n",
       "    <tr>\n",
       "      <th>0</th>\n",
       "      <td>WINDSOR PALACE</td>\n",
       "      <td>1</td>\n",
       "    </tr>\n",
       "    <tr>\n",
       "      <th>1</th>\n",
       "      <td>CIA. INDUSTRIAL DE GRANDES HOTIS - HOTEL GLàRIA</td>\n",
       "      <td>1376</td>\n",
       "    </tr>\n",
       "    <tr>\n",
       "      <th>2</th>\n",
       "      <td>SIQUEIRA SOARES LTDA - EPP</td>\n",
       "      <td>2</td>\n",
       "    </tr>\n",
       "    <tr>\n",
       "      <th>3</th>\n",
       "      <td>CENTRAL SERVICE TURISMO LTDA</td>\n",
       "      <td>1</td>\n",
       "    </tr>\n",
       "    <tr>\n",
       "      <th>4</th>\n",
       "      <td>V. ROMANELLI &amp; CIA LTDA</td>\n",
       "      <td>140</td>\n",
       "    </tr>\n",
       "    <tr>\n",
       "      <th>...</th>\n",
       "      <td>...</td>\n",
       "      <td>...</td>\n",
       "    </tr>\n",
       "    <tr>\n",
       "      <th>8602</th>\n",
       "      <td>AP COM. DE ALIM. LTDA - TERM PASSA AEROPORTO</td>\n",
       "      <td>1</td>\n",
       "    </tr>\n",
       "    <tr>\n",
       "      <th>8603</th>\n",
       "      <td>JACQUELINE Sµ SILVA</td>\n",
       "      <td>1</td>\n",
       "    </tr>\n",
       "    <tr>\n",
       "      <th>8604</th>\n",
       "      <td>CENTRAL AGROPECUARIO LTDA</td>\n",
       "      <td>1</td>\n",
       "    </tr>\n",
       "    <tr>\n",
       "      <th>8605</th>\n",
       "      <td>MARLI DAL BERTO PASSAIA - RESTAURANTE</td>\n",
       "      <td>2</td>\n",
       "    </tr>\n",
       "    <tr>\n",
       "      <th>8606</th>\n",
       "      <td>ORION EMPREENDIMENTOS E ALUGUEIS LTDA</td>\n",
       "      <td>3</td>\n",
       "    </tr>\n",
       "  </tbody>\n",
       "</table>\n",
       "<p>8607 rows × 2 columns</p>\n",
       "</div>"
      ],
      "text/plain": [
       "                                       nome_fornecedor  quantidade\n",
       "0                                       WINDSOR PALACE           1\n",
       "1     CIA. INDUSTRIAL DE GRANDES HOTIS - HOTEL GLàRIA        1376\n",
       "2                           SIQUEIRA SOARES LTDA - EPP           2\n",
       "3                         CENTRAL SERVICE TURISMO LTDA           1\n",
       "4                              V. ROMANELLI & CIA LTDA         140\n",
       "...                                                ...         ...\n",
       "8602      AP COM. DE ALIM. LTDA - TERM PASSA AEROPORTO           1\n",
       "8603                               JACQUELINE Sµ SILVA           1\n",
       "8604                         CENTRAL AGROPECUARIO LTDA           1\n",
       "8605             MARLI DAL BERTO PASSAIA - RESTAURANTE           2\n",
       "8606             ORION EMPREENDIMENTOS E ALUGUEIS LTDA           3\n",
       "\n",
       "[8607 rows x 2 columns]"
      ]
     },
     "execution_count": 43,
     "metadata": {},
     "output_type": "execute_result"
    }
   ],
   "source": [
    "query = '''\n",
    "\n",
    "    SELECT\n",
    "        nome_fornecedor,\n",
    "        count(nome_fornecedor) as quantidade\n",
    "    FROM gastos_corporativos.gastos\n",
    "    GROUP BY nome_fornecedor\n",
    "                \n",
    "'''\n",
    "pd.read_sql_query(query, con = conn)"
   ]
  },
  {
   "cell_type": "markdown",
   "metadata": {},
   "source": [
    "    - Colunas categóricas\n",
    "\n",
    "    indx Colunas          Qt de valores únicos  \n",
    "    ---  ---------------  ----- \n",
    "     0   nome_fornecedor  8607 \n",
    "     1   tipo_compra      2 \n",
    "     4   nome_presidente  4   \n",
    "   "
   ]
  },
  {
   "cell_type": "code",
   "execution_count": null,
   "metadata": {},
   "outputs": [],
   "source": []
  },
  {
   "cell_type": "markdown",
   "metadata": {},
   "source": [
    "#### questão 1) Qual o gasto total não corrigido de cada presidente?"
   ]
  },
  {
   "cell_type": "code",
   "execution_count": 10,
   "metadata": {},
   "outputs": [
    {
     "data": {
      "text/html": [
       "<div>\n",
       "<style scoped>\n",
       "    .dataframe tbody tr th:only-of-type {\n",
       "        vertical-align: middle;\n",
       "    }\n",
       "\n",
       "    .dataframe tbody tr th {\n",
       "        vertical-align: top;\n",
       "    }\n",
       "\n",
       "    .dataframe thead th {\n",
       "        text-align: right;\n",
       "    }\n",
       "</style>\n",
       "<table border=\"1\" class=\"dataframe\">\n",
       "  <thead>\n",
       "    <tr style=\"text-align: right;\">\n",
       "      <th></th>\n",
       "      <th>nome_presidente</th>\n",
       "      <th>gasto_total_absoluto</th>\n",
       "    </tr>\n",
       "  </thead>\n",
       "  <tbody>\n",
       "    <tr>\n",
       "      <th>0</th>\n",
       "      <td>TEMER</td>\n",
       "      <td>8869686.0</td>\n",
       "    </tr>\n",
       "    <tr>\n",
       "      <th>1</th>\n",
       "      <td>DILMA</td>\n",
       "      <td>34412964.0</td>\n",
       "    </tr>\n",
       "    <tr>\n",
       "      <th>2</th>\n",
       "      <td>LULA</td>\n",
       "      <td>43988240.0</td>\n",
       "    </tr>\n",
       "    <tr>\n",
       "      <th>3</th>\n",
       "      <td>BOLSONARO</td>\n",
       "      <td>27621530.0</td>\n",
       "    </tr>\n",
       "  </tbody>\n",
       "</table>\n",
       "</div>"
      ],
      "text/plain": [
       "  nome_presidente  gasto_total_absoluto\n",
       "0           TEMER             8869686.0\n",
       "1           DILMA            34412964.0\n",
       "2            LULA            43988240.0\n",
       "3       BOLSONARO            27621530.0"
      ]
     },
     "execution_count": 10,
     "metadata": {},
     "output_type": "execute_result"
    }
   ],
   "source": [
    "query = ''' \n",
    "\n",
    "    SELECT\n",
    "        nome_presidente,\n",
    "        sum(valor) as gasto_total_absoluto\n",
    "    FROM gastos_corporativos.gastos\n",
    "    GROUP BY nome_presidente\n",
    "    \n",
    "'''\n",
    "pd.read_sql_query(query, con = conn)"
   ]
  },
  {
   "cell_type": "markdown",
   "metadata": {},
   "source": [
    "#### questão 2) Qual o gasto total corrigido de cada presidente?"
   ]
  },
  {
   "cell_type": "code",
   "execution_count": 19,
   "metadata": {},
   "outputs": [
    {
     "data": {
      "text/html": [
       "<div>\n",
       "<style scoped>\n",
       "    .dataframe tbody tr th:only-of-type {\n",
       "        vertical-align: middle;\n",
       "    }\n",
       "\n",
       "    .dataframe tbody tr th {\n",
       "        vertical-align: top;\n",
       "    }\n",
       "\n",
       "    .dataframe thead th {\n",
       "        text-align: right;\n",
       "    }\n",
       "</style>\n",
       "<table border=\"1\" class=\"dataframe\">\n",
       "  <thead>\n",
       "    <tr style=\"text-align: right;\">\n",
       "      <th></th>\n",
       "      <th>nome_presidente</th>\n",
       "      <th>gasto_total_corrigido</th>\n",
       "    </tr>\n",
       "  </thead>\n",
       "  <tbody>\n",
       "    <tr>\n",
       "      <th>0</th>\n",
       "      <td>TEMER</td>\n",
       "      <td>11650522.0</td>\n",
       "    </tr>\n",
       "    <tr>\n",
       "      <th>1</th>\n",
       "      <td>DILMA</td>\n",
       "      <td>57799488.0</td>\n",
       "    </tr>\n",
       "    <tr>\n",
       "      <th>2</th>\n",
       "      <td>LULA</td>\n",
       "      <td>109342376.0</td>\n",
       "    </tr>\n",
       "    <tr>\n",
       "      <th>3</th>\n",
       "      <td>BOLSONARO</td>\n",
       "      <td>31756092.0</td>\n",
       "    </tr>\n",
       "  </tbody>\n",
       "</table>\n",
       "</div>"
      ],
      "text/plain": [
       "  nome_presidente  gasto_total_corrigido\n",
       "0           TEMER             11650522.0\n",
       "1           DILMA             57799488.0\n",
       "2            LULA            109342376.0\n",
       "3       BOLSONARO             31756092.0"
      ]
     },
     "execution_count": 19,
     "metadata": {},
     "output_type": "execute_result"
    }
   ],
   "source": [
    "query = ''' \n",
    "\n",
    "    SELECT\n",
    "        nome_presidente,\n",
    "        sum(valor_corrigido) as gasto_total_corrigido\n",
    "    FROM gastos_corporativos.gastos\n",
    "    GROUP BY nome_presidente\n",
    "    \n",
    "'''\n",
    "pd.read_sql_query(query, con = conn)"
   ]
  },
  {
   "cell_type": "markdown",
   "metadata": {},
   "source": [
    "*próximas peguntas todas referentes aos valores corrigidos pela inflação\n",
    "\n",
    "#### questão 3) Qual a média total de gastos por mês usando o cartão presidencial?"
   ]
  },
  {
   "cell_type": "code",
   "execution_count": 27,
   "metadata": {},
   "outputs": [
    {
     "data": {
      "text/html": [
       "<div>\n",
       "<style scoped>\n",
       "    .dataframe tbody tr th:only-of-type {\n",
       "        vertical-align: middle;\n",
       "    }\n",
       "\n",
       "    .dataframe tbody tr th {\n",
       "        vertical-align: top;\n",
       "    }\n",
       "\n",
       "    .dataframe thead th {\n",
       "        text-align: right;\n",
       "    }\n",
       "</style>\n",
       "<table border=\"1\" class=\"dataframe\">\n",
       "  <thead>\n",
       "    <tr style=\"text-align: right;\">\n",
       "      <th></th>\n",
       "      <th>media_total_do_periodo</th>\n",
       "    </tr>\n",
       "  </thead>\n",
       "  <tbody>\n",
       "    <tr>\n",
       "      <th>0</th>\n",
       "      <td>923471.649123</td>\n",
       "    </tr>\n",
       "  </tbody>\n",
       "</table>\n",
       "</div>"
      ],
      "text/plain": [
       "   media_total_do_periodo\n",
       "0           923471.649123"
      ]
     },
     "execution_count": 27,
     "metadata": {},
     "output_type": "execute_result"
    }
   ],
   "source": [
    "query = '''\n",
    "\n",
    "    SELECT\n",
    "        (sum(valor_corrigido)/228) AS media_total_do_periodo\n",
    "    FROM     \n",
    "        gastos_corporativos.gastos    \n",
    "'''\n",
    "pd.read_sql_query(query, con = conn)"
   ]
  },
  {
   "cell_type": "markdown",
   "metadata": {},
   "source": [
    "#### Questão 4) Média de gatos das transações por presidente?"
   ]
  },
  {
   "cell_type": "markdown",
   "metadata": {},
   "source": [
    "- LULA"
   ]
  },
  {
   "cell_type": "code",
   "execution_count": 42,
   "metadata": {},
   "outputs": [
    {
     "data": {
      "text/html": [
       "<div>\n",
       "<style scoped>\n",
       "    .dataframe tbody tr th:only-of-type {\n",
       "        vertical-align: middle;\n",
       "    }\n",
       "\n",
       "    .dataframe tbody tr th {\n",
       "        vertical-align: top;\n",
       "    }\n",
       "\n",
       "    .dataframe thead th {\n",
       "        text-align: right;\n",
       "    }\n",
       "</style>\n",
       "<table border=\"1\" class=\"dataframe\">\n",
       "  <thead>\n",
       "    <tr style=\"text-align: right;\">\n",
       "      <th></th>\n",
       "      <th>media_por_transacoes</th>\n",
       "    </tr>\n",
       "  </thead>\n",
       "  <tbody>\n",
       "    <tr>\n",
       "      <th>0</th>\n",
       "      <td>1660.25128</td>\n",
       "    </tr>\n",
       "  </tbody>\n",
       "</table>\n",
       "</div>"
      ],
      "text/plain": [
       "   media_por_transacoes\n",
       "0            1660.25128"
      ]
     },
     "execution_count": 42,
     "metadata": {},
     "output_type": "execute_result"
    }
   ],
   "source": [
    "query = '''\n",
    "    \n",
    "    SELECT\n",
    "        AVG(valor_corrigido) AS media_por_transacoes\n",
    "    FROM     \n",
    "        gastos_corporativos.gastos\n",
    "    WHERE nome_presidente = 'LULA'  \n",
    "\n",
    "'''\n",
    "pd.read_sql_query(query, con = conn)"
   ]
  },
  {
   "cell_type": "markdown",
   "metadata": {},
   "source": [
    "- DILMA"
   ]
  },
  {
   "cell_type": "code",
   "execution_count": 41,
   "metadata": {},
   "outputs": [
    {
     "data": {
      "text/html": [
       "<div>\n",
       "<style scoped>\n",
       "    .dataframe tbody tr th:only-of-type {\n",
       "        vertical-align: middle;\n",
       "    }\n",
       "\n",
       "    .dataframe tbody tr th {\n",
       "        vertical-align: top;\n",
       "    }\n",
       "\n",
       "    .dataframe thead th {\n",
       "        text-align: right;\n",
       "    }\n",
       "</style>\n",
       "<table border=\"1\" class=\"dataframe\">\n",
       "  <thead>\n",
       "    <tr style=\"text-align: right;\">\n",
       "      <th></th>\n",
       "      <th>media_por_transacoes</th>\n",
       "    </tr>\n",
       "  </thead>\n",
       "  <tbody>\n",
       "    <tr>\n",
       "      <th>0</th>\n",
       "      <td>2189.039404</td>\n",
       "    </tr>\n",
       "  </tbody>\n",
       "</table>\n",
       "</div>"
      ],
      "text/plain": [
       "   media_por_transacoes\n",
       "0           2189.039404"
      ]
     },
     "execution_count": 41,
     "metadata": {},
     "output_type": "execute_result"
    }
   ],
   "source": [
    "query = '''\n",
    "    \n",
    "    SELECT\n",
    "        AVG(valor_corrigido) AS media_por_transacoes\n",
    "    FROM     \n",
    "        gastos_corporativos.gastos\n",
    "    WHERE nome_presidente = 'DILMA'  \n",
    "\n",
    "'''\n",
    "pd.read_sql_query(query, con = conn)"
   ]
  },
  {
   "cell_type": "markdown",
   "metadata": {},
   "source": [
    "- TEMER"
   ]
  },
  {
   "cell_type": "code",
   "execution_count": 40,
   "metadata": {},
   "outputs": [
    {
     "data": {
      "text/html": [
       "<div>\n",
       "<style scoped>\n",
       "    .dataframe tbody tr th:only-of-type {\n",
       "        vertical-align: middle;\n",
       "    }\n",
       "\n",
       "    .dataframe tbody tr th {\n",
       "        vertical-align: top;\n",
       "    }\n",
       "\n",
       "    .dataframe thead th {\n",
       "        text-align: right;\n",
       "    }\n",
       "</style>\n",
       "<table border=\"1\" class=\"dataframe\">\n",
       "  <thead>\n",
       "    <tr style=\"text-align: right;\">\n",
       "      <th></th>\n",
       "      <th>media__por_transacoes</th>\n",
       "    </tr>\n",
       "  </thead>\n",
       "  <tbody>\n",
       "    <tr>\n",
       "      <th>0</th>\n",
       "      <td>1508.745428</td>\n",
       "    </tr>\n",
       "  </tbody>\n",
       "</table>\n",
       "</div>"
      ],
      "text/plain": [
       "   media__por_transacoes\n",
       "0            1508.745428"
      ]
     },
     "execution_count": 40,
     "metadata": {},
     "output_type": "execute_result"
    }
   ],
   "source": [
    "query = '''\n",
    "    \n",
    "    SELECT\n",
    "        AVG(valor_corrigido) AS media__por_transacoes\n",
    "    FROM     \n",
    "        gastos_corporativos.gastos\n",
    "    WHERE nome_presidente = 'TEMER'  \n",
    "\n",
    "'''\n",
    "pd.read_sql_query(query, con = conn)"
   ]
  },
  {
   "cell_type": "markdown",
   "metadata": {},
   "source": [
    "- BOLSONARO"
   ]
  },
  {
   "cell_type": "code",
   "execution_count": 39,
   "metadata": {},
   "outputs": [
    {
     "data": {
      "text/html": [
       "<div>\n",
       "<style scoped>\n",
       "    .dataframe tbody tr th:only-of-type {\n",
       "        vertical-align: middle;\n",
       "    }\n",
       "\n",
       "    .dataframe tbody tr th {\n",
       "        vertical-align: top;\n",
       "    }\n",
       "\n",
       "    .dataframe thead th {\n",
       "        text-align: right;\n",
       "    }\n",
       "</style>\n",
       "<table border=\"1\" class=\"dataframe\">\n",
       "  <thead>\n",
       "    <tr style=\"text-align: right;\">\n",
       "      <th></th>\n",
       "      <th>media_por_transacoes</th>\n",
       "    </tr>\n",
       "  </thead>\n",
       "  <tbody>\n",
       "    <tr>\n",
       "      <th>0</th>\n",
       "      <td>2380.695636</td>\n",
       "    </tr>\n",
       "  </tbody>\n",
       "</table>\n",
       "</div>"
      ],
      "text/plain": [
       "   media_por_transacoes\n",
       "0           2380.695636"
      ]
     },
     "execution_count": 39,
     "metadata": {},
     "output_type": "execute_result"
    }
   ],
   "source": [
    "query = '''\n",
    "    \n",
    "    SELECT\n",
    "        AVG(valor_corrigido) AS media_por_transacoes\n",
    "    FROM     \n",
    "        gastos_corporativos.gastos\n",
    "    WHERE nome_presidente = 'BOLSONARO'  \n",
    "\n",
    "'''\n",
    "pd.read_sql_query(query, con = conn)"
   ]
  },
  {
   "cell_type": "markdown",
   "metadata": {},
   "source": [
    "#### questão 5) Qual a soma de gastos totais do período? "
   ]
  },
  {
   "cell_type": "code",
   "execution_count": 85,
   "metadata": {},
   "outputs": [
    {
     "data": {
      "text/html": [
       "<div>\n",
       "<style scoped>\n",
       "    .dataframe tbody tr th:only-of-type {\n",
       "        vertical-align: middle;\n",
       "    }\n",
       "\n",
       "    .dataframe tbody tr th {\n",
       "        vertical-align: top;\n",
       "    }\n",
       "\n",
       "    .dataframe thead th {\n",
       "        text-align: right;\n",
       "    }\n",
       "</style>\n",
       "<table border=\"1\" class=\"dataframe\">\n",
       "  <thead>\n",
       "    <tr style=\"text-align: right;\">\n",
       "      <th></th>\n",
       "      <th>gasto_total_do_périodo</th>\n",
       "    </tr>\n",
       "  </thead>\n",
       "  <tbody>\n",
       "    <tr>\n",
       "      <th>0</th>\n",
       "      <td>210551540.0</td>\n",
       "    </tr>\n",
       "  </tbody>\n",
       "</table>\n",
       "</div>"
      ],
      "text/plain": [
       "   gasto_total_do_périodo\n",
       "0             210551540.0"
      ]
     },
     "execution_count": 85,
     "metadata": {},
     "output_type": "execute_result"
    }
   ],
   "source": [
    "query = '''\n",
    "\n",
    "    SELECT\n",
    "        sum(valor_corrigido) AS gasto_total_do_périodo\n",
    "    FROM gastos_corporativos.gastos\n",
    "\n",
    "'''\n",
    "pd.read_sql_query(query, con = conn)"
   ]
  },
  {
   "cell_type": "markdown",
   "metadata": {},
   "source": [
    "#### questão 6) Quais as 3 empresa mais beneficiadas(valor) por presidente? "
   ]
  },
  {
   "cell_type": "markdown",
   "metadata": {},
   "source": [
    "- LULA"
   ]
  },
  {
   "cell_type": "code",
   "execution_count": 53,
   "metadata": {},
   "outputs": [
    {
     "data": {
      "text/html": [
       "<div>\n",
       "<style scoped>\n",
       "    .dataframe tbody tr th:only-of-type {\n",
       "        vertical-align: middle;\n",
       "    }\n",
       "\n",
       "    .dataframe tbody tr th {\n",
       "        vertical-align: top;\n",
       "    }\n",
       "\n",
       "    .dataframe thead th {\n",
       "        text-align: right;\n",
       "    }\n",
       "</style>\n",
       "<table border=\"1\" class=\"dataframe\">\n",
       "  <thead>\n",
       "    <tr style=\"text-align: right;\">\n",
       "      <th></th>\n",
       "      <th>nome_fornecedor</th>\n",
       "      <th>valor_total_por_empresa</th>\n",
       "    </tr>\n",
       "  </thead>\n",
       "  <tbody>\n",
       "    <tr>\n",
       "      <th>0</th>\n",
       "      <td>FULL TIME LOCAÇO E SERVIOS S/C LTDA</td>\n",
       "      <td>5721317.0</td>\n",
       "    </tr>\n",
       "    <tr>\n",
       "      <th>1</th>\n",
       "      <td>P.J.P. LOCAåES E SERVIOS LTDA - BRASÖLIA RENT A</td>\n",
       "      <td>3273567.0</td>\n",
       "    </tr>\n",
       "    <tr>\n",
       "      <th>2</th>\n",
       "      <td>LOCALIZA RENT A CAR S/A</td>\n",
       "      <td>2872042.5</td>\n",
       "    </tr>\n",
       "  </tbody>\n",
       "</table>\n",
       "</div>"
      ],
      "text/plain": [
       "                                     nome_fornecedor  valor_total_por_empresa\n",
       "0              FULL TIME LOCAÇO E SERVIOS S/C LTDA                5721317.0\n",
       "1  P.J.P. LOCAåES E SERVIOS LTDA - BRASÖLIA RENT A                3273567.0\n",
       "2                            LOCALIZA RENT A CAR S/A                2872042.5"
      ]
     },
     "execution_count": 53,
     "metadata": {},
     "output_type": "execute_result"
    }
   ],
   "source": [
    "query = '''\n",
    "\n",
    "    SELECT\n",
    "        nome_fornecedor,\n",
    "        sum(valor_corrigido) as valor_total_por_empresa \n",
    "    FROM gastos_corporativos.gastos\n",
    "    WHERE nome_presidente = 'LULA'\n",
    "    GROUP BY nome_fornecedor\n",
    "    ORDER BY valor_total_por_empresa DESC LIMIT 3\n",
    "    \n",
    "'''\n",
    "pd.read_sql_query(query, con = conn)"
   ]
  },
  {
   "cell_type": "markdown",
   "metadata": {},
   "source": [
    "- DILMA"
   ]
  },
  {
   "cell_type": "code",
   "execution_count": 57,
   "metadata": {},
   "outputs": [
    {
     "data": {
      "text/html": [
       "<div>\n",
       "<style scoped>\n",
       "    .dataframe tbody tr th:only-of-type {\n",
       "        vertical-align: middle;\n",
       "    }\n",
       "\n",
       "    .dataframe tbody tr th {\n",
       "        vertical-align: top;\n",
       "    }\n",
       "\n",
       "    .dataframe thead th {\n",
       "        text-align: right;\n",
       "    }\n",
       "</style>\n",
       "<table border=\"1\" class=\"dataframe\">\n",
       "  <thead>\n",
       "    <tr style=\"text-align: right;\">\n",
       "      <th></th>\n",
       "      <th>nome_fornecedor</th>\n",
       "      <th>valor_total_por_empresa</th>\n",
       "    </tr>\n",
       "  </thead>\n",
       "  <tbody>\n",
       "    <tr>\n",
       "      <th>0</th>\n",
       "      <td>GOLDEN TOWER HOTEIS E TURISMO LTDA</td>\n",
       "      <td>2366490.8</td>\n",
       "    </tr>\n",
       "    <tr>\n",
       "      <th>1</th>\n",
       "      <td>BOURBON IBIRAPUERA HOTEL &amp; CONVENTION</td>\n",
       "      <td>2334436.0</td>\n",
       "    </tr>\n",
       "    <tr>\n",
       "      <th>2</th>\n",
       "      <td>MERCADINHO LA PALMA LTDA</td>\n",
       "      <td>2318399.0</td>\n",
       "    </tr>\n",
       "  </tbody>\n",
       "</table>\n",
       "</div>"
      ],
      "text/plain": [
       "                         nome_fornecedor  valor_total_por_empresa\n",
       "0     GOLDEN TOWER HOTEIS E TURISMO LTDA                2366490.8\n",
       "1  BOURBON IBIRAPUERA HOTEL & CONVENTION                2334436.0\n",
       "2               MERCADINHO LA PALMA LTDA                2318399.0"
      ]
     },
     "execution_count": 57,
     "metadata": {},
     "output_type": "execute_result"
    }
   ],
   "source": [
    "query = '''\n",
    "\n",
    "    SELECT\n",
    "        nome_fornecedor,\n",
    "        sum(valor_corrigido) as valor_total_por_empresa \n",
    "    FROM gastos_corporativos.gastos\n",
    "    WHERE nome_presidente = 'DILMA'\n",
    "    GROUP BY nome_fornecedor\n",
    "    ORDER BY valor_total_por_empresa DESC LIMIT 3\n",
    "    \n",
    "'''\n",
    "pd.read_sql_query(query, con = conn)"
   ]
  },
  {
   "cell_type": "markdown",
   "metadata": {},
   "source": [
    "- TEMER"
   ]
  },
  {
   "cell_type": "code",
   "execution_count": 58,
   "metadata": {},
   "outputs": [
    {
     "data": {
      "text/html": [
       "<div>\n",
       "<style scoped>\n",
       "    .dataframe tbody tr th:only-of-type {\n",
       "        vertical-align: middle;\n",
       "    }\n",
       "\n",
       "    .dataframe tbody tr th {\n",
       "        vertical-align: top;\n",
       "    }\n",
       "\n",
       "    .dataframe thead th {\n",
       "        text-align: right;\n",
       "    }\n",
       "</style>\n",
       "<table border=\"1\" class=\"dataframe\">\n",
       "  <thead>\n",
       "    <tr style=\"text-align: right;\">\n",
       "      <th></th>\n",
       "      <th>nome_fornecedor</th>\n",
       "      <th>valor_total_por_empresa</th>\n",
       "    </tr>\n",
       "  </thead>\n",
       "  <tbody>\n",
       "    <tr>\n",
       "      <th>0</th>\n",
       "      <td>MERCADINHO LA PALMA LTDA</td>\n",
       "      <td>525230.40</td>\n",
       "    </tr>\n",
       "    <tr>\n",
       "      <th>1</th>\n",
       "      <td>BLUE TREE FARIA LIMA</td>\n",
       "      <td>511076.22</td>\n",
       "    </tr>\n",
       "    <tr>\n",
       "      <th>2</th>\n",
       "      <td>INTERNATIONAL MEAL COMPANY ALIMENT</td>\n",
       "      <td>506633.75</td>\n",
       "    </tr>\n",
       "  </tbody>\n",
       "</table>\n",
       "</div>"
      ],
      "text/plain": [
       "                      nome_fornecedor  valor_total_por_empresa\n",
       "0            MERCADINHO LA PALMA LTDA                525230.40\n",
       "1                BLUE TREE FARIA LIMA                511076.22\n",
       "2  INTERNATIONAL MEAL COMPANY ALIMENT                506633.75"
      ]
     },
     "execution_count": 58,
     "metadata": {},
     "output_type": "execute_result"
    }
   ],
   "source": [
    "query = '''\n",
    "\n",
    "    SELECT\n",
    "        nome_fornecedor,\n",
    "        sum(valor_corrigido) as valor_total_por_empresa \n",
    "    FROM gastos_corporativos.gastos\n",
    "    WHERE nome_presidente = 'TEMER'\n",
    "    GROUP BY nome_fornecedor\n",
    "    ORDER BY valor_total_por_empresa DESC LIMIT 3\n",
    "    \n",
    "'''\n",
    "pd.read_sql_query(query, con = conn)"
   ]
  },
  {
   "cell_type": "markdown",
   "metadata": {},
   "source": [
    "- BOLSONARO"
   ]
  },
  {
   "cell_type": "code",
   "execution_count": 59,
   "metadata": {},
   "outputs": [
    {
     "data": {
      "text/html": [
       "<div>\n",
       "<style scoped>\n",
       "    .dataframe tbody tr th:only-of-type {\n",
       "        vertical-align: middle;\n",
       "    }\n",
       "\n",
       "    .dataframe tbody tr th {\n",
       "        vertical-align: top;\n",
       "    }\n",
       "\n",
       "    .dataframe thead th {\n",
       "        text-align: right;\n",
       "    }\n",
       "</style>\n",
       "<table border=\"1\" class=\"dataframe\">\n",
       "  <thead>\n",
       "    <tr style=\"text-align: right;\">\n",
       "      <th></th>\n",
       "      <th>nome_fornecedor</th>\n",
       "      <th>valor_total_por_empresa</th>\n",
       "    </tr>\n",
       "  </thead>\n",
       "  <tbody>\n",
       "    <tr>\n",
       "      <th>0</th>\n",
       "      <td>HOTUR S PAULO PART E EMPR LTDA</td>\n",
       "      <td>1657280.5</td>\n",
       "    </tr>\n",
       "    <tr>\n",
       "      <th>1</th>\n",
       "      <td>COMPANHIA BRASILEIRA DE DISTRIBUIÇO</td>\n",
       "      <td>1319486.0</td>\n",
       "    </tr>\n",
       "    <tr>\n",
       "      <th>2</th>\n",
       "      <td>BIG TRANS COMERCIAL DE ALIMENTOS LTDA</td>\n",
       "      <td>959098.2</td>\n",
       "    </tr>\n",
       "  </tbody>\n",
       "</table>\n",
       "</div>"
      ],
      "text/plain": [
       "                         nome_fornecedor  valor_total_por_empresa\n",
       "0         HOTUR S PAULO PART E EMPR LTDA                1657280.5\n",
       "1   COMPANHIA BRASILEIRA DE DISTRIBUIÇO                1319486.0\n",
       "2  BIG TRANS COMERCIAL DE ALIMENTOS LTDA                 959098.2"
      ]
     },
     "execution_count": 59,
     "metadata": {},
     "output_type": "execute_result"
    }
   ],
   "source": [
    "query = '''\n",
    "\n",
    "    SELECT\n",
    "        nome_fornecedor,\n",
    "        sum(valor_corrigido) as valor_total_por_empresa \n",
    "    FROM gastos_corporativos.gastos\n",
    "    WHERE nome_presidente = 'BOLSONARO'\n",
    "    GROUP BY nome_fornecedor\n",
    "    ORDER BY valor_total_por_empresa DESC LIMIT 3\n",
    "    \n",
    "'''\n",
    "pd.read_sql_query(query, con = conn)"
   ]
  },
  {
   "cell_type": "markdown",
   "metadata": {},
   "source": [
    "#### questão 7) Quais as 5 empresas mais beneficiada(valor) de todos os tempos(2003-2022)?"
   ]
  },
  {
   "cell_type": "code",
   "execution_count": 61,
   "metadata": {},
   "outputs": [
    {
     "data": {
      "text/html": [
       "<div>\n",
       "<style scoped>\n",
       "    .dataframe tbody tr th:only-of-type {\n",
       "        vertical-align: middle;\n",
       "    }\n",
       "\n",
       "    .dataframe tbody tr th {\n",
       "        vertical-align: top;\n",
       "    }\n",
       "\n",
       "    .dataframe thead th {\n",
       "        text-align: right;\n",
       "    }\n",
       "</style>\n",
       "<table border=\"1\" class=\"dataframe\">\n",
       "  <thead>\n",
       "    <tr style=\"text-align: right;\">\n",
       "      <th></th>\n",
       "      <th>nome_fornecedor</th>\n",
       "      <th>valor_total_por_empresa</th>\n",
       "    </tr>\n",
       "  </thead>\n",
       "  <tbody>\n",
       "    <tr>\n",
       "      <th>0</th>\n",
       "      <td>MERCADINHO LA PALMA LTDA</td>\n",
       "      <td>6351730.5</td>\n",
       "    </tr>\n",
       "    <tr>\n",
       "      <th>1</th>\n",
       "      <td>FULL TIME LOCAÇO E SERVIOS S/C LTDA</td>\n",
       "      <td>5721317.0</td>\n",
       "    </tr>\n",
       "    <tr>\n",
       "      <th>2</th>\n",
       "      <td>COMPANHIA BRASILEIRA DE DISTRIBUIÇO</td>\n",
       "      <td>4558713.0</td>\n",
       "    </tr>\n",
       "    <tr>\n",
       "      <th>3</th>\n",
       "      <td>BOURBON IBIRAPUERA HOTEL &amp; CONVENTION</td>\n",
       "      <td>4407380.0</td>\n",
       "    </tr>\n",
       "    <tr>\n",
       "      <th>4</th>\n",
       "      <td>P.J.P. LOCAåES E SERVIOS LTDA - BRASÖLIA RENT A</td>\n",
       "      <td>3273567.0</td>\n",
       "    </tr>\n",
       "  </tbody>\n",
       "</table>\n",
       "</div>"
      ],
      "text/plain": [
       "                                     nome_fornecedor  valor_total_por_empresa\n",
       "0                           MERCADINHO LA PALMA LTDA                6351730.5\n",
       "1              FULL TIME LOCAÇO E SERVIOS S/C LTDA                5721317.0\n",
       "2               COMPANHIA BRASILEIRA DE DISTRIBUIÇO                4558713.0\n",
       "3              BOURBON IBIRAPUERA HOTEL & CONVENTION                4407380.0\n",
       "4  P.J.P. LOCAåES E SERVIOS LTDA - BRASÖLIA RENT A                3273567.0"
      ]
     },
     "execution_count": 61,
     "metadata": {},
     "output_type": "execute_result"
    }
   ],
   "source": [
    "query = '''\n",
    "\n",
    "    SELECT\n",
    "        nome_fornecedor,\n",
    "        sum(valor_corrigido) AS valor_total_por_empresa \n",
    "    FROM gastos_corporativos.gastos\n",
    "    GROUP BY nome_fornecedor\n",
    "    ORDER BY valor_total_por_empresa DESC LIMIT 5\n",
    "\n",
    "'''\n",
    "pd.read_sql_query(query, con = conn)"
   ]
  },
  {
   "cell_type": "markdown",
   "metadata": {},
   "source": [
    "#### questão 8) Quais as 5 empresa com maior numero de transações em todo período?"
   ]
  },
  {
   "cell_type": "code",
   "execution_count": 48,
   "metadata": {},
   "outputs": [
    {
     "data": {
      "text/html": [
       "<div>\n",
       "<style scoped>\n",
       "    .dataframe tbody tr th:only-of-type {\n",
       "        vertical-align: middle;\n",
       "    }\n",
       "\n",
       "    .dataframe tbody tr th {\n",
       "        vertical-align: top;\n",
       "    }\n",
       "\n",
       "    .dataframe thead th {\n",
       "        text-align: right;\n",
       "    }\n",
       "</style>\n",
       "<table border=\"1\" class=\"dataframe\">\n",
       "  <thead>\n",
       "    <tr style=\"text-align: right;\">\n",
       "      <th></th>\n",
       "      <th>nome_fornecedor</th>\n",
       "      <th>quantidade</th>\n",
       "    </tr>\n",
       "  </thead>\n",
       "  <tbody>\n",
       "    <tr>\n",
       "      <th>0</th>\n",
       "      <td>COMPANHIA BRASILEIRA DE DISTRIBUIÇO</td>\n",
       "      <td>4710</td>\n",
       "    </tr>\n",
       "    <tr>\n",
       "      <th>1</th>\n",
       "      <td>MERCADINHO LA PALMA LTDA</td>\n",
       "      <td>3591</td>\n",
       "    </tr>\n",
       "    <tr>\n",
       "      <th>2</th>\n",
       "      <td>ABACO SCP SAINT MORITZ</td>\n",
       "      <td>2793</td>\n",
       "    </tr>\n",
       "    <tr>\n",
       "      <th>3</th>\n",
       "      <td>BOURBON IBIRAPUERA HOTEL &amp; CONVENTION</td>\n",
       "      <td>2617</td>\n",
       "    </tr>\n",
       "    <tr>\n",
       "      <th>4</th>\n",
       "      <td>BIG TRANS COMERCIAL DE ALIMENTOS LTDA</td>\n",
       "      <td>2170</td>\n",
       "    </tr>\n",
       "  </tbody>\n",
       "</table>\n",
       "</div>"
      ],
      "text/plain": [
       "                         nome_fornecedor  quantidade\n",
       "0   COMPANHIA BRASILEIRA DE DISTRIBUIÇO        4710\n",
       "1               MERCADINHO LA PALMA LTDA        3591\n",
       "2                 ABACO SCP SAINT MORITZ        2793\n",
       "3  BOURBON IBIRAPUERA HOTEL & CONVENTION        2617\n",
       "4  BIG TRANS COMERCIAL DE ALIMENTOS LTDA        2170"
      ]
     },
     "execution_count": 48,
     "metadata": {},
     "output_type": "execute_result"
    }
   ],
   "source": [
    "query = '''\n",
    "\n",
    "    SELECT\n",
    "        nome_fornecedor,\n",
    "        count(nome_fornecedor) as quantidade\n",
    "    FROM gastos_corporativos.gastos\n",
    "    GROUP BY nome_fornecedor\n",
    "    ORDER BY quantidade DESC LIMIT 5\n",
    "\n",
    "'''\n",
    "pd.read_sql_query(query, con = conn)"
   ]
  },
  {
   "cell_type": "markdown",
   "metadata": {},
   "source": [
    "#### Questão 9) Quais as 5 empresas com maior média de valor por transações?"
   ]
  },
  {
   "cell_type": "code",
   "execution_count": 62,
   "metadata": {},
   "outputs": [
    {
     "data": {
      "text/html": [
       "<div>\n",
       "<style scoped>\n",
       "    .dataframe tbody tr th:only-of-type {\n",
       "        vertical-align: middle;\n",
       "    }\n",
       "\n",
       "    .dataframe tbody tr th {\n",
       "        vertical-align: top;\n",
       "    }\n",
       "\n",
       "    .dataframe thead th {\n",
       "        text-align: right;\n",
       "    }\n",
       "</style>\n",
       "<table border=\"1\" class=\"dataframe\">\n",
       "  <thead>\n",
       "    <tr style=\"text-align: right;\">\n",
       "      <th></th>\n",
       "      <th>nome_fornecedor</th>\n",
       "      <th>media_por_trasacao</th>\n",
       "    </tr>\n",
       "  </thead>\n",
       "  <tbody>\n",
       "    <tr>\n",
       "      <th>0</th>\n",
       "      <td>SHOWïS ESTRUTURAS E EVENTOS LTDA - ME</td>\n",
       "      <td>278313.312500</td>\n",
       "    </tr>\n",
       "    <tr>\n",
       "      <th>1</th>\n",
       "      <td>HOTUR S PAULO PART E EMPR LTDA</td>\n",
       "      <td>165728.050000</td>\n",
       "    </tr>\n",
       "    <tr>\n",
       "      <th>2</th>\n",
       "      <td>CASA GRANDE HOTEL S/A</td>\n",
       "      <td>140093.125000</td>\n",
       "    </tr>\n",
       "    <tr>\n",
       "      <th>3</th>\n",
       "      <td>LSG SKY CHEFS PHILADELPHIA, PA</td>\n",
       "      <td>107106.937500</td>\n",
       "    </tr>\n",
       "    <tr>\n",
       "      <th>4</th>\n",
       "      <td>HOTEL ZIBAMBA</td>\n",
       "      <td>105071.445312</td>\n",
       "    </tr>\n",
       "  </tbody>\n",
       "</table>\n",
       "</div>"
      ],
      "text/plain": [
       "                         nome_fornecedor  media_por_trasacao\n",
       "0  SHOWïS ESTRUTURAS E EVENTOS LTDA - ME       278313.312500\n",
       "1         HOTUR S PAULO PART E EMPR LTDA       165728.050000\n",
       "2                  CASA GRANDE HOTEL S/A       140093.125000\n",
       "3         LSG SKY CHEFS PHILADELPHIA, PA       107106.937500\n",
       "4                          HOTEL ZIBAMBA       105071.445312"
      ]
     },
     "execution_count": 62,
     "metadata": {},
     "output_type": "execute_result"
    }
   ],
   "source": [
    "query = '''\n",
    "    \n",
    "    SELECT\n",
    "        nome_fornecedor,\n",
    "        (sum(valor_corrigido)/count(nome_fornecedor)) AS media_por_trasacao \n",
    "    FROM gastos_corporativos.gastos\n",
    "    GROUP BY nome_fornecedor\n",
    "    ORDER BY media_por_trasacao DESC LIMIT 5\n",
    "\n",
    "'''\n",
    "pd.read_sql_query(query, con = conn)"
   ]
  },
  {
   "cell_type": "markdown",
   "metadata": {},
   "source": [
    "#### Questão 10) Qual a percentual entre os tipos de compras do cartão presidencial?"
   ]
  },
  {
   "cell_type": "code",
   "execution_count": 79,
   "metadata": {},
   "outputs": [
    {
     "data": {
      "text/html": [
       "<div>\n",
       "<style scoped>\n",
       "    .dataframe tbody tr th:only-of-type {\n",
       "        vertical-align: middle;\n",
       "    }\n",
       "\n",
       "    .dataframe tbody tr th {\n",
       "        vertical-align: top;\n",
       "    }\n",
       "\n",
       "    .dataframe thead th {\n",
       "        text-align: right;\n",
       "    }\n",
       "</style>\n",
       "<table border=\"1\" class=\"dataframe\">\n",
       "  <thead>\n",
       "    <tr style=\"text-align: right;\">\n",
       "      <th></th>\n",
       "      <th>tipo_compra</th>\n",
       "      <th>quantidade_transacoes</th>\n",
       "    </tr>\n",
       "  </thead>\n",
       "  <tbody>\n",
       "    <tr>\n",
       "      <th>0</th>\n",
       "      <td>Crédito</td>\n",
       "      <td>91213</td>\n",
       "    </tr>\n",
       "    <tr>\n",
       "      <th>1</th>\n",
       "      <td>Débito</td>\n",
       "      <td>22111</td>\n",
       "    </tr>\n",
       "  </tbody>\n",
       "</table>\n",
       "</div>"
      ],
      "text/plain": [
       "  tipo_compra  quantidade_transacoes\n",
       "0     Crédito                  91213\n",
       "1      Débito                  22111"
      ]
     },
     "execution_count": 79,
     "metadata": {},
     "output_type": "execute_result"
    }
   ],
   "source": [
    "query = '''\n",
    "    \n",
    "    SELECT\n",
    "        tipo_compra,\n",
    "        count(tipo_compra) AS Quantidade_transacoes\n",
    "    FROM gastos_corporativos.gastos\n",
    "    GROUP BY tipo_compra\n",
    "    ORDER BY Quantidade_transacoes DESC\n",
    "    \n",
    "'''\n",
    "resp_10 = pd.read_sql_query(query, con = conn)\n",
    "resp_10"
   ]
  },
  {
   "cell_type": "code",
   "execution_count": 80,
   "metadata": {},
   "outputs": [],
   "source": [
    "total = sum(resp_10['quantidade_transacoes'])\n",
    "credito, debito = resp_10['quantidade_transacoes'][:]\n",
    "\n",
    "perc_cred = (credito/total)*100\n",
    "perc_debt = (debito/total)*100"
   ]
  },
  {
   "cell_type": "code",
   "execution_count": 81,
   "metadata": {},
   "outputs": [
    {
     "name": "stdout",
     "output_type": "stream",
     "text": [
      "Crédito: 80.49%\n",
      "Débito: 19.51%\n"
     ]
    }
   ],
   "source": [
    "print(f'Crédito: {perc_cred:.2f}%')\n",
    "print(f'Débito: {perc_debt:.2f}%')"
   ]
  }
 ],
 "metadata": {
  "colab": {
   "provenance": []
  },
  "kernelspec": {
   "display_name": "Python 3 (ipykernel)",
   "language": "python",
   "name": "python3"
  },
  "language_info": {
   "codemirror_mode": {
    "name": "ipython",
    "version": 3
   },
   "file_extension": ".py",
   "mimetype": "text/x-python",
   "name": "python",
   "nbconvert_exporter": "python",
   "pygments_lexer": "ipython3",
   "version": "3.9.7"
  }
 },
 "nbformat": 4,
 "nbformat_minor": 1
}
