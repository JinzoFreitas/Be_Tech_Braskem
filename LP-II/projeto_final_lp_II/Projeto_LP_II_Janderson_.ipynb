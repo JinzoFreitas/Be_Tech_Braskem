{
  "nbformat": 4,
  "nbformat_minor": 0,
  "metadata": {
    "colab": {
      "provenance": []
    },
    "kernelspec": {
      "name": "python3",
      "display_name": "Python 3"
    },
    "language_info": {
      "name": "python"
    }
  },
  "cells": [
    {
      "cell_type": "code",
      "source": [
        "# Função que carrega o dicionario de dados e o modelo pensado anteriormente\n",
        "# de como gostaria que ficassem os dados.\n",
        "\n",
        "# Utilizei tratamento de Erros para válidar a existência do arquivo e retorna uma\n",
        "# mensagem de erro.\n",
        "\n",
        "def data_info():\n",
        "  model = '''\\n Exemplo da estrutura dos dados. A data de coleta é a chave raiz.\n",
        "        modelo:\n",
        "\n",
        "        dict_model = {\n",
        "\n",
        "          'Dia-1':{\n",
        "                      'Cidade A':{\n",
        "                                    'Temperatura(°C)': int,\n",
        "                                    'Umidade(%)': int,\n",
        "                                    'Precipitacao': float\n",
        "                                    },\n",
        "                      'Cdiade B':{\n",
        "                                    'Temperatura(°C)': int,\n",
        "                                    'Umidade(%)': int,\n",
        "                                    'Precipitacao': float\n",
        "                                    }},\n",
        "          'Dia-2':{\n",
        "                      'Cidade A':{\n",
        "                                    'Temperatura(°C)': int,\n",
        "                                    'Umidade(%)': int,\n",
        "                                    'Precipitacao': float\n",
        "                                    },\n",
        "                      'Cidade B':{\n",
        "                                    'Temperatura(°C)': int,\n",
        "                                    'Umidade(%)': int,\n",
        "                                    'Precipitacao': float\n",
        "                                    }}\n",
        "                                    }\n",
        "\n",
        "      Chamada:   dict_model['Dia']['Cidade']['grandeza']\n",
        "\n",
        "    '''\n",
        "  description = 'Dicionario_dataset.txt'\n",
        "\n",
        "  print('Informações sobre o banco de dados climático')\n",
        "  print(\"1 - Modelo\\n2 - Descrição \")\n",
        "  try:\n",
        "    opcao = int(input(\"Escolha as opções de detalhes\"))\n",
        "    if opcao == 1:\n",
        "      return print(model)\n",
        "    elif opcao == 2:\n",
        "      try:\n",
        "        with open(description, 'r', encoding='utf-8') as arquivo:\n",
        "          text = arquivo.read()\n",
        "          for line in text:\n",
        "            print(line, end='')\n",
        "      except FileNotFoundError:\n",
        "        print('Caminho ou arquivo não encontrado!')\n",
        "        print('Verifique os arquivos em anexo ou entre em contato com o desenvolvedor.')\n",
        "  except ValueError:\n",
        "    print('Digite uma opção válida: 1 ou 2')\n",
        "\n"
      ],
      "metadata": {
        "id": "Ritm0g4fCCxL"
      },
      "execution_count": 269,
      "outputs": []
    },
    {
      "cell_type": "code",
      "source": [
        "# Função para transforma CSV em uma lista de Dict, optei por usar dicionário e\n",
        "# listas para manipular os dados e informações com o python, pois achei, para meu\n",
        "# projeto, a estrutura com melhor perfomance em pesquisas e manipulações de dados\n",
        "# especificos.\n",
        "\n",
        "# Utilizei tratamento de Erros para válidar a existência do arquivo e retorna uma\n",
        "# mensagem de erro.\n",
        "\n",
        "def extraction_csv_to_list(file) -> dict|None:\n",
        "  import csv\n",
        "  try:\n",
        "    list_data = []\n",
        "    with open(file,'r') as arquivo:\n",
        "      my_dict = csv.DictReader(arquivo)\n",
        "      for row in my_dict:\n",
        "        list_data.append(row)\n",
        "\n",
        "    return list_data\n",
        "\n",
        "  except FileNotFoundError:\n",
        "    print('Caminho ou arquivo não encontrado!')\n",
        "    print('Verifique os arquivos em anexo ou entre em contato com o desenvolvedor.')"
      ],
      "metadata": {
        "id": "PKcy0_kTa790"
      },
      "execution_count": 270,
      "outputs": []
    },
    {
      "cell_type": "code",
      "source": [
        "# Função para trasformação dos dados de lista de dicionarios para dicionario\n",
        "# de acordo com o modelo projetado anteriormente.\n",
        "\n",
        "def transformation_list_to_dict(list_data:list) -> dict:\n",
        "    city = {}\n",
        "    data_transf = {}\n",
        "    for index, row in enumerate(list_data):\n",
        "      city[row['Local'].title()] = {\n",
        "                            'Temperatura': row['Temperatura (Celsius)']+'°C',\n",
        "                            'Umidade': row['Umidade (%)']+'%',\n",
        "                            'Precipitação': row['Precipitacao (mm)']+' mm'\n",
        "                            }\n",
        "      if (index+1)%5 == 0:\n",
        "        data_transf[row['Data']] = city\n",
        "        city = {}\n",
        "\n",
        "    return data_transf"
      ],
      "metadata": {
        "id": "cWN33nmYTOvW"
      },
      "execution_count": 271,
      "outputs": []
    },
    {
      "cell_type": "code",
      "source": [
        "# Função que gerencia e executa todas as funções do processo ETL\n",
        "# Optei por um retorno duplo, em formato de Tupla para aplicar os conhecimentos\n",
        "# vistos em sala de aula.\n",
        "\n",
        "def load_data(file) -> tuple:\n",
        "  data_list = extraction_csv_to_list(file)\n",
        "  data_transf = transformation_list_to_dict(data_list)\n",
        "  length = len(data_transf)\n",
        "  return data_transf, length\n"
      ],
      "metadata": {
        "id": "Wjl-6vRmV-vO"
      },
      "execution_count": 272,
      "outputs": []
    },
    {
      "cell_type": "code",
      "source": [
        "def sair():\n",
        "  print('\\nObrigado por usar nosso banco de dados, Até logo!')\n",
        "  return 'Sair'"
      ],
      "metadata": {
        "id": "6Km7VjD66OwB"
      },
      "execution_count": 273,
      "outputs": []
    },
    {
      "cell_type": "code",
      "source": [
        "def temperatura_media(city:str) -> None:\n",
        "  temps = []\n",
        "  for _ in range(len_data):\n",
        "    temps.append(float(dados_meteorologicos[f'0{_+1}/12/23'][city]['Temperatura'].replace('°C','')))\n",
        "  temp_media = sum(temps)/len_data\n",
        "  return print(f'\\n{city} teve uma Temperatura média de {temp_media} °C, entre os de dias 01 a 08/12/23')\n"
      ],
      "metadata": {
        "id": "WoBzIfJpaD6b"
      },
      "execution_count": 274,
      "outputs": []
    },
    {
      "cell_type": "code",
      "source": [
        "def umidade_media(city:str) -> None:\n",
        "  umid = []\n",
        "  for _ in range(len_data):\n",
        "    umid.append(float(dados_meteorologicos[f'0{_+1}/12/23'][city]['Umidade'].replace('%','')))\n",
        "  umid_media = sum(umid)/len_data\n",
        "  return print(f'\\n{city} teve uma Umidade Relativa média de {umid_media}%, entre os de dias 01 a 08/12/23')"
      ],
      "metadata": {
        "id": "Edvonl_AyNaF"
      },
      "execution_count": 275,
      "outputs": []
    },
    {
      "cell_type": "code",
      "source": [
        "def precipitacao_media(city:str) -> None:\n",
        "  precip = []\n",
        "  for _ in range(len_data):\n",
        "    precip.append(float(dados_meteorologicos[f'0{_+1}/12/23'][city]['Precipitação'].replace(' mm','')))\n",
        "  precip_media = sum(precip)/len_data\n",
        "  return print(f'\\n{city} teve uma Precipitação média de {precip_media} mm, entre os dias de 01 a 08/12/23')\n",
        "  pass"
      ],
      "metadata": {
        "id": "QY8miwkSyN6D"
      },
      "execution_count": 276,
      "outputs": []
    },
    {
      "cell_type": "code",
      "source": [
        "def dados_absolutos(city:str) -> None:\n",
        "  print(f'\\nVocê escolheu {city} para a pesquisa de dados absolutos\\n')\n",
        "  day = int(input('Agora Escolha o dia: [1 - 8] '))\n",
        "  grandeza = input('Qual dos dados gostaria de ver [Temperatura - Umidade - Precipitação]:  ').capitalize()\n",
        "  print(f'''\n",
        "        ---- Dados de pesquisa ----\n",
        "\n",
        "        Cidade:  {city}\n",
        "        Dia da coleta: 0{day} de dezembro de 2023\n",
        "        {grandeza}: {dados_meteorologicos[f'0{day}/12/23'][city][grandeza]}\n",
        "\n",
        "        ----------------------------\n",
        "  ''')\n"
      ],
      "metadata": {
        "id": "fLDx-_NiESqs"
      },
      "execution_count": 277,
      "outputs": []
    },
    {
      "cell_type": "code",
      "source": [
        "def main():\n",
        "\n",
        "  data_csv = 'dataset.csv'\n",
        "  dados_meteorologicos, len_data = load_data(data_csv)\n",
        "\n",
        "  print('Bem-vindo ao banco de dados climáticos Janderson Freitas')\n",
        "  continuar = ''\n",
        "  while continuar != 'Sair':\n",
        "    print('''\n",
        "          Funções:\n",
        "\n",
        "          0 - Sair\n",
        "          1 - Temperatura Média (por cidade)\n",
        "          2 - Umidade Relativa Média (por cidade)\n",
        "          3 - Precipitação Média (por cidade)\n",
        "          4 - Pesquisar dados Absolutos\n",
        "          5 - Info sobre o banco de dados\n",
        "\n",
        "    \\n''')\n",
        "    funcoes = [sair,temperatura_media, umidade_media, precipitacao_media, dados_absolutos, data_info]\n",
        "\n",
        "    opcao = int(input('Digite o indice da função que gostaria de executar: '))\n",
        "    if opcao in [1,2,3,4]:\n",
        "      while True:\n",
        "        city = input('''\n",
        "\n",
        "        obs: Os valores médios tem como base o\n",
        "        periodo de 01 a 08 de dezembro de 2023\n",
        "\n",
        "        Informe a cidade para análise:\n",
        "        [Sao Paulo, Rio de Janeiro, Brasilia, Salvador, Recife]: ''').lower()\n",
        "\n",
        "        if city in ['sao paulo','rio de janeiro','brasilia','salvador','recife']:\n",
        "          break\n",
        "        print('\\nInforme uma cidade válida!')\n",
        "      funcoes[opcao](city.title())\n",
        "    elif opcao in [0,5]:\n",
        "      continuar = funcoes[opcao]()\n",
        "    else:\n",
        "      print('Indice de função Inválido')"
      ],
      "metadata": {
        "id": "VFy1vBhXyf8w"
      },
      "execution_count": 278,
      "outputs": []
    },
    {
      "cell_type": "code",
      "source": [
        "main()"
      ],
      "metadata": {
        "colab": {
          "base_uri": "https://localhost:8080/"
        },
        "id": "Rv4e3Tl3-z9Y",
        "outputId": "a6de9ba2-b82b-401d-b972-b33f73501287"
      },
      "execution_count": 280,
      "outputs": [
        {
          "output_type": "stream",
          "name": "stdout",
          "text": [
            "Bem-vindo ao banco de dados climáticos Janderson Freitas\n",
            "\n",
            "          Funções:\n",
            "\n",
            "          0 - Sair\n",
            "          1 - Temperatura Média (por cidade)\n",
            "          2 - Umidade Relativa Média (por cidade)\n",
            "          3 - Precipitação Média (por cidade)\n",
            "          4 - Pesquisar dados Absolutos\n",
            "          5 - Info sobre o banco de dados  \n",
            "\n",
            "    \n",
            "\n",
            "Digite o indice da função que gostaria de executar: 0\n",
            "\n",
            "Obrigado por usar nosso banco de dados, Até logo!\n"
          ]
        }
      ]
    }
  ]
}